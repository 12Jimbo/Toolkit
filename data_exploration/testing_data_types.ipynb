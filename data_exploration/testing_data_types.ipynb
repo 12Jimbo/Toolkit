{
 "cells": [
  {
   "cell_type": "code",
   "execution_count": null,
   "metadata": {
    "_cell_guid": "b1076dfc-b9ad-4769-8c92-a6c4dae69d19",
    "_uuid": "8f2839f25d086af736a60e9eeb907d3b93b6e0e5",
    "execution": {
     "iopub.execute_input": "2024-04-09T13:04:59.469090Z",
     "iopub.status.busy": "2024-04-09T13:04:59.468570Z",
     "iopub.status.idle": "2024-04-09T13:05:00.608630Z",
     "shell.execute_reply": "2024-04-09T13:05:00.607354Z",
     "shell.execute_reply.started": "2024-04-09T13:04:59.469048Z"
    },
    "trusted": true
   },
   "outputs": [],
   "source": [
    "import numpy as np\n",
    "import pandas as pd\n",
    "\n",
    "from testing_data import *\n",
    "import data_types as types\n",
    "import df_mappings as map\n",
    "import text_exploration as texplo"
   ]
  },
  {
   "cell_type": "markdown",
   "metadata": {},
   "source": [
    "# 1. Data Types"
   ]
  },
  {
   "cell_type": "code",
   "execution_count": null,
   "metadata": {},
   "outputs": [
    {
     "name": "stdout",
     "output_type": "stream",
     "text": [
      "['col_types', 'nan2nan', 'pd']\n"
     ]
    }
   ],
   "source": [
    "# Print out the names of all the functions in the data_types module\n",
    "print([item for item in dir(types) if not item.startswith('__')])"
   ]
  },
  {
   "cell_type": "markdown",
   "metadata": {},
   "source": [
    "### 1.1 Explore types with `col_types()`\n",
    "`types.col_types(df)` prints out the number of element types found in each column of a given pandas Data Frame:"
   ]
  },
  {
   "cell_type": "code",
   "execution_count": null,
   "metadata": {},
   "outputs": [
    {
     "name": "stdout",
     "output_type": "stream",
     "text": [
      "Help on function col_types in module data_types:\n",
      "\n",
      "col_types(df)\n",
      "    '\n",
      "    In: a data frame df\n",
      "    Out: prints the number of element types found in each column of a given df\n",
      "\n"
     ]
    }
   ],
   "source": [
    "# help(types.col_types)"
   ]
  },
  {
   "cell_type": "code",
   "execution_count": 42,
   "metadata": {},
   "outputs": [
    {
     "name": "stdout",
     "output_type": "stream",
     "text": [
      "   Column1 Column2 Column3\n",
      "0      1.0       A    True\n",
      "1      2.5       B   False\n",
      "2      3.0       C     NaN\n",
      "3      4.8       D       1\n",
      "4      5.0       5   Mixed \n",
      "\n",
      "Column1\n",
      "<class 'float'>    5\n",
      "Name: count, dtype: int64 \n",
      " NaN values:  0 \n",
      "\n",
      "Column2\n",
      "<class 'str'>    4\n",
      "<class 'int'>    1\n",
      "Name: count, dtype: int64 \n",
      " NaN values:  0 \n",
      "\n",
      "Column3\n",
      "<class 'bool'>     2\n",
      "<class 'float'>    1\n",
      "<class 'int'>      1\n",
      "<class 'str'>      1\n",
      "Name: count, dtype: int64 \n",
      " NaN values:  1 \n",
      "\n"
     ]
    }
   ],
   "source": [
    "print(df_multitype,'\\n')\n",
    "\n",
    "types.col_types(df_multitype)"
   ]
  },
  {
   "cell_type": "markdown",
   "metadata": {},
   "source": [
    "### 1.2 Explore Same-Row NaNs with `nan2nan`\n",
    "`types.nan2nan` serves to answer the question: Are NaN values in col_1 also NaN in col 2?"
   ]
  },
  {
   "cell_type": "code",
   "execution_count": null,
   "metadata": {},
   "outputs": [
    {
     "name": "stdout",
     "output_type": "stream",
     "text": [
      "Help on function nan2nan in module data_types:\n",
      "\n",
      "nan2nan(df, col_1_name, col_2_name)\n",
      "    Given 2 columns in a data frame df, this function\n",
      "    returns a list with the number of NaNs in the first,\n",
      "    The number of NaNs in the second,\n",
      "    And the number fo rows where both cols have NaN value\n",
      "\n"
     ]
    }
   ],
   "source": [
    "# help(types.nan2nan)"
   ]
  },
  {
   "cell_type": "code",
   "execution_count": 41,
   "metadata": {},
   "outputs": [
    {
     "name": "stdout",
     "output_type": "stream",
     "text": [
      "   Column1 Column2 Column3\n",
      "0      1.0       A    True\n",
      "1      NaN       B     NaN\n",
      "2      NaN     NaN     NaN\n",
      "3      4.0     NaN    True\n",
      "4      5.0       E   False \n",
      "\n",
      "NaN values in Column1:  2 \n",
      "\n",
      "NaN values in Column2:  2 \n",
      "\n",
      "NaN values in the same row for both Column1 and Column2:  1\n"
     ]
    }
   ],
   "source": [
    "print(df_nans,'\\n')\n",
    "\n",
    "types.nan2nan(df_nans, 'Column1', 'Column2')"
   ]
  }
 ],
 "metadata": {
  "kaggle": {
   "accelerator": "none",
   "dataSources": [],
   "dockerImageVersionId": 30664,
   "isGpuEnabled": false,
   "isInternetEnabled": true,
   "language": "python",
   "sourceType": "notebook"
  },
  "kernelspec": {
   "display_name": "Python 3",
   "language": "python",
   "name": "python3"
  },
  "language_info": {
   "codemirror_mode": {
    "name": "ipython",
    "version": 3
   },
   "file_extension": ".py",
   "mimetype": "text/x-python",
   "name": "python",
   "nbconvert_exporter": "python",
   "pygments_lexer": "ipython3",
   "version": "3.12.1"
  }
 },
 "nbformat": 4,
 "nbformat_minor": 4
}
