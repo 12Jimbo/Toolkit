{
 "cells": [
  {
   "cell_type": "code",
   "execution_count": 2,
   "metadata": {
    "_cell_guid": "b1076dfc-b9ad-4769-8c92-a6c4dae69d19",
    "_uuid": "8f2839f25d086af736a60e9eeb907d3b93b6e0e5",
    "execution": {
     "iopub.execute_input": "2024-04-09T13:04:59.469090Z",
     "iopub.status.busy": "2024-04-09T13:04:59.468570Z",
     "iopub.status.idle": "2024-04-09T13:05:00.608630Z",
     "shell.execute_reply": "2024-04-09T13:05:00.607354Z",
     "shell.execute_reply.started": "2024-04-09T13:04:59.469048Z"
    },
    "trusted": true
   },
   "outputs": [],
   "source": [
    "import numpy as np\n",
    "import pandas as pd\n",
    "\n",
    "#import text_exploration as texplo"
   ]
  },
  {
   "cell_type": "code",
   "execution_count": 8,
   "metadata": {},
   "outputs": [],
   "source": [
    "# A few dataframes for testing:\n",
    "\n",
    "data_multitype = {\n",
    "    'Column1': [1, 2.5, 3, 4.8, 5],     # Mixed integers and floats\n",
    "    'Column2': ['A', 'B', 'C', 'D', 5], # Strings and an integer\n",
    "    'Column3': [True, False, np.nan, 1, 'Mixed']  # Booleans, NaN, integer, and string\n",
    "}\n",
    "\n",
    "df_multitype = pd.DataFrame(data_multitype)\n",
    "\n",
    "data_nans = {\n",
    "    'Column1': [1, np.nan, np.nan, 4, 5],       # Contains NaN values\n",
    "    'Column2': ['A', 'B', np.nan, np.nan, 'E'], # Contains NaN values\n",
    "    'Column3': [True, np.nan, np.nan, True, False]  # Contains NaN values\n",
    "}\n",
    "\n",
    "df_nans = pd.DataFrame(data_nans)\n",
    "\n",
    "df_maps1 = pd.DataFrame(\n",
    "    {\n",
    "        'a': [1, 2, 3, 4, 3],\n",
    "        'b': [1, 3, 1, 3, 1],\n",
    "        'c': ['lollo', 'gigio', 'lollo', 'gigio', 'lollo']\n",
    "    })\n",
    "\n",
    "df_maps2 = pd.DataFrame(\n",
    "    {\n",
    "        'a': [1, 2, 3, 4],\n",
    "        'b': [1, 1, 3, 5]\n",
    "    }\n",
    ")"
   ]
  },
  {
   "cell_type": "markdown",
   "metadata": {},
   "source": [
    "# 1. Data Types"
   ]
  },
  {
   "cell_type": "code",
   "execution_count": 27,
   "metadata": {},
   "outputs": [
    {
     "name": "stdout",
     "output_type": "stream",
     "text": [
      "['col_types', 'nan2nan', 'pd']\n"
     ]
    }
   ],
   "source": [
    "import data_types as types\n",
    "\n",
    "# Print out the names of all the functions in the data_types module\n",
    "print([item for item in dir(types) if not item.startswith('__')])"
   ]
  },
  {
   "cell_type": "markdown",
   "metadata": {},
   "source": [
    "`types.col_types(df)` prints out the number of element types found in each column of a given pandas Data Frame:"
   ]
  },
  {
   "cell_type": "code",
   "execution_count": null,
   "metadata": {},
   "outputs": [],
   "source": [
    "help(types.col_types)"
   ]
  },
  {
   "cell_type": "code",
   "execution_count": 42,
   "metadata": {},
   "outputs": [
    {
     "name": "stdout",
     "output_type": "stream",
     "text": [
      "   Column1 Column2 Column3\n",
      "0      1.0       A    True\n",
      "1      2.5       B   False\n",
      "2      3.0       C     NaN\n",
      "3      4.8       D       1\n",
      "4      5.0       5   Mixed \n",
      "\n",
      "Column1\n",
      "<class 'float'>    5\n",
      "Name: count, dtype: int64 \n",
      " NaN values:  0 \n",
      "\n",
      "Column2\n",
      "<class 'str'>    4\n",
      "<class 'int'>    1\n",
      "Name: count, dtype: int64 \n",
      " NaN values:  0 \n",
      "\n",
      "Column3\n",
      "<class 'bool'>     2\n",
      "<class 'float'>    1\n",
      "<class 'int'>      1\n",
      "<class 'str'>      1\n",
      "Name: count, dtype: int64 \n",
      " NaN values:  1 \n",
      "\n"
     ]
    }
   ],
   "source": [
    "print(df_multitype,'\\n')\n",
    "\n",
    "types.col_types(df_multitype)"
   ]
  },
  {
   "cell_type": "markdown",
   "metadata": {},
   "source": [
    "`types.nan2nan` serves to answer the question: Are NaN values in col_1 also NaN in col 2?"
   ]
  },
  {
   "cell_type": "code",
   "execution_count": 41,
   "metadata": {},
   "outputs": [
    {
     "name": "stdout",
     "output_type": "stream",
     "text": [
      "   Column1 Column2 Column3\n",
      "0      1.0       A    True\n",
      "1      NaN       B     NaN\n",
      "2      NaN     NaN     NaN\n",
      "3      4.0     NaN    True\n",
      "4      5.0       E   False \n",
      "\n",
      "NaN values in Column1:  2 \n",
      "\n",
      "NaN values in Column2:  2 \n",
      "\n",
      "NaN values in the same row for both Column1 and Column2:  1\n"
     ]
    }
   ],
   "source": [
    "print(df_nans,'\\n')\n",
    "\n",
    "types.nan2nan(df_nans, 'Column1', 'Column2')"
   ]
  },
  {
   "cell_type": "markdown",
   "metadata": {},
   "source": [
    "# 2. Mappings"
   ]
  },
  {
   "cell_type": "code",
   "execution_count": 5,
   "metadata": {
    "execution": {
     "iopub.execute_input": "2024-04-09T13:05:00.620617Z",
     "iopub.status.busy": "2024-04-09T13:05:00.620057Z",
     "iopub.status.idle": "2024-04-09T13:05:00.632785Z",
     "shell.execute_reply": "2024-04-09T13:05:00.631989Z",
     "shell.execute_reply.started": "2024-04-09T13:05:00.620589Z"
    },
    "trusted": true
   },
   "outputs": [
    {
     "name": "stdout",
     "output_type": "stream",
     "text": [
      "['foreign_k2k', 'map_col2col', 'occurrences', 'pd']\n"
     ]
    }
   ],
   "source": [
    "import df_mappings as map\n",
    "\n",
    "print([item for item in dir(map) if not item.startswith('__')])"
   ]
  },
  {
   "cell_type": "markdown",
   "metadata": {},
   "source": [
    "`maps.map_col2col`: given 2 columns in a data frame (or any two same length columns), one might be interested in how they map onto each other. Is it a 1 to 1 mapping? Does it define a function? And if so, is the function injective of surjective?\n",
    "\n",
    "The following function, given col_1 and col_2, returns, for each value in col_1, how many values it is associated to in col_2:"
   ]
  },
  {
   "cell_type": "code",
   "execution_count": null,
   "metadata": {
    "execution": {
     "iopub.execute_input": "2024-04-09T13:05:00.658096Z",
     "iopub.status.busy": "2024-04-09T13:05:00.657182Z",
     "iopub.status.idle": "2024-04-09T13:05:00.669167Z",
     "shell.execute_reply": "2024-04-09T13:05:00.668314Z",
     "shell.execute_reply.started": "2024-04-09T13:05:00.658068Z"
    },
    "trusted": true
   },
   "outputs": [
    {
     "name": "stdout",
     "output_type": "stream",
     "text": [
      "   a  b      c\n",
      "0  1  1  lollo\n",
      "1  2  3  gigio\n",
      "2  3  1  lollo\n",
      "3  4  3  gigio\n",
      "4  3  1  lollo \n",
      "\n",
      "   gigio  lollo\n",
      "1  False   True\n",
      "3   True  False\n"
     ]
    }
   ],
   "source": [
    "# Try it out here:\n",
    "print(df_maps1, '\\n')\n",
    "print(map_col2col(df_maps1.b, df_maps1.c))"
   ]
  },
  {
   "cell_type": "markdown",
   "metadata": {},
   "source": [
    "By calling `map_count(col_1, col_2)` and then `map_count(col_2, col_1)`, one will be able to determine the relation between the two columns."
   ]
  },
  {
   "cell_type": "markdown",
   "metadata": {},
   "source": [
    "`map.foreign_k2k`: are you wandering whether two columns from different tables have the same unique values?"
   ]
  },
  {
   "cell_type": "code",
   "execution_count": 9,
   "metadata": {
    "execution": {
     "iopub.execute_input": "2024-04-09T13:05:00.691962Z",
     "iopub.status.busy": "2024-04-09T13:05:00.691260Z",
     "iopub.status.idle": "2024-04-09T13:05:00.703870Z",
     "shell.execute_reply": "2024-04-09T13:05:00.703093Z",
     "shell.execute_reply.started": "2024-04-09T13:05:00.691936Z"
    },
    "trusted": true
   },
   "outputs": [
    {
     "data": {
      "text/html": [
       "<div>\n",
       "<style scoped>\n",
       "    .dataframe tbody tr th:only-of-type {\n",
       "        vertical-align: middle;\n",
       "    }\n",
       "\n",
       "    .dataframe tbody tr th {\n",
       "        vertical-align: top;\n",
       "    }\n",
       "\n",
       "    .dataframe thead th {\n",
       "        text-align: right;\n",
       "    }\n",
       "</style>\n",
       "<table border=\"1\" class=\"dataframe\">\n",
       "  <thead>\n",
       "    <tr style=\"text-align: right;\">\n",
       "      <th></th>\n",
       "      <th>table1.a_values</th>\n",
       "      <th>matches_in_table2.b &gt; -1</th>\n",
       "    </tr>\n",
       "  </thead>\n",
       "  <tbody>\n",
       "    <tr>\n",
       "      <th>0</th>\n",
       "      <td>1</td>\n",
       "      <td>2</td>\n",
       "    </tr>\n",
       "    <tr>\n",
       "      <th>1</th>\n",
       "      <td>2</td>\n",
       "      <td>0</td>\n",
       "    </tr>\n",
       "    <tr>\n",
       "      <th>2</th>\n",
       "      <td>3</td>\n",
       "      <td>1</td>\n",
       "    </tr>\n",
       "    <tr>\n",
       "      <th>3</th>\n",
       "      <td>4</td>\n",
       "      <td>0</td>\n",
       "    </tr>\n",
       "  </tbody>\n",
       "</table>\n",
       "</div>"
      ],
      "text/plain": [
       "   table1.a_values  matches_in_table2.b > -1\n",
       "0                1                         2\n",
       "1                2                         0\n",
       "2                3                         1\n",
       "3                4                         0"
      ]
     },
     "execution_count": 9,
     "metadata": {},
     "output_type": "execute_result"
    }
   ],
   "source": [
    "\n",
    "map.foreign_k2k(df_maps2.a, df_maps2.b)"
   ]
  },
  {
   "cell_type": "markdown",
   "metadata": {},
   "source": [
    "# 4. Need Trimming?\n",
    "A long column of strings sometimes starts with undesirable characters like brackets or others. Let's quickly check what are the initials of our strings:"
   ]
  },
  {
   "cell_type": "code",
   "execution_count": 11,
   "metadata": {
    "execution": {
     "iopub.execute_input": "2024-04-09T13:05:00.705621Z",
     "iopub.status.busy": "2024-04-09T13:05:00.705144Z",
     "iopub.status.idle": "2024-04-09T13:05:00.712530Z",
     "shell.execute_reply": "2024-04-09T13:05:00.711767Z",
     "shell.execute_reply.started": "2024-04-09T13:05:00.705568Z"
    },
    "trusted": true
   },
   "outputs": [],
   "source": [
    "def initials(s):\n",
    "    # Given a Series of strings, it retruns all unique first characters\n",
    "    s = s.map(lambda x: x[0] if isinstance(x, str) else x)\n",
    "    return s.value_counts(dropna = False)"
   ]
  },
  {
   "cell_type": "code",
   "execution_count": 13,
   "metadata": {
    "execution": {
     "iopub.execute_input": "2024-04-09T13:05:04.107537Z",
     "iopub.status.busy": "2024-04-09T13:05:04.107194Z",
     "iopub.status.idle": "2024-04-09T13:05:04.112033Z",
     "shell.execute_reply": "2024-04-09T13:05:04.111297Z",
     "shell.execute_reply.started": "2024-04-09T13:05:04.107511Z"
    },
    "trusted": true
   },
   "outputs": [],
   "source": [
    "def finals(s):\n",
    "    # Given a Series of strings, it retruns all unique first characters\n",
    "    s = s.map(lambda x: x[-1] if isinstance(x, str) else x)\n",
    "    return s.value_counts(dropna = False)"
   ]
  }
 ],
 "metadata": {
  "kaggle": {
   "accelerator": "none",
   "dataSources": [],
   "dockerImageVersionId": 30664,
   "isGpuEnabled": false,
   "isInternetEnabled": true,
   "language": "python",
   "sourceType": "notebook"
  },
  "kernelspec": {
   "display_name": "Python 3",
   "language": "python",
   "name": "python3"
  },
  "language_info": {
   "codemirror_mode": {
    "name": "ipython",
    "version": 3
   },
   "file_extension": ".py",
   "mimetype": "text/x-python",
   "name": "python",
   "nbconvert_exporter": "python",
   "pygments_lexer": "ipython3",
   "version": "3.12.1"
  }
 },
 "nbformat": 4,
 "nbformat_minor": 4
}
