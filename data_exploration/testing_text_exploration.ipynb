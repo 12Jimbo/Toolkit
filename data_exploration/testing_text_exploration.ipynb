{
 "cells": [
  {
   "cell_type": "code",
   "execution_count": null,
   "metadata": {
    "_cell_guid": "b1076dfc-b9ad-4769-8c92-a6c4dae69d19",
    "_uuid": "8f2839f25d086af736a60e9eeb907d3b93b6e0e5",
    "execution": {
     "iopub.execute_input": "2024-04-09T13:04:59.469090Z",
     "iopub.status.busy": "2024-04-09T13:04:59.468570Z",
     "iopub.status.idle": "2024-04-09T13:05:00.608630Z",
     "shell.execute_reply": "2024-04-09T13:05:00.607354Z",
     "shell.execute_reply.started": "2024-04-09T13:04:59.469048Z"
    },
    "trusted": true
   },
   "outputs": [],
   "source": [
    "import numpy as np\n",
    "import pandas as pd\n",
    "\n",
    "from testing_data import *\n",
    "import data_types as types\n",
    "import df_mappings as map\n",
    "import text_exploration as texplo"
   ]
  },
  {
   "cell_type": "markdown",
   "metadata": {},
   "source": [
    "# 3. Explore your text fields"
   ]
  },
  {
   "cell_type": "code",
   "execution_count": null,
   "metadata": {},
   "outputs": [
    {
     "name": "stdout",
     "output_type": "stream",
     "text": [
      "['finals', 'initials', 'pd']\n"
     ]
    }
   ],
   "source": [
    "# Print out the names of all the functions in the text_exploration module\n",
    "print([item for item in dir(texplo) if not item.startswith('__')])"
   ]
  },
  {
   "cell_type": "markdown",
   "metadata": {},
   "source": [
    "### 3.1 Need trimming?\n",
    "A long column of strings sometimes starts with undesirable characters like brackets or others. Let's quickly check what are the initials of our strings:"
   ]
  },
  {
   "cell_type": "code",
   "execution_count": 35,
   "metadata": {},
   "outputs": [
    {
     "name": "stdout",
     "output_type": "stream",
     "text": [
      "Help on function initials in module text_exploration:\n",
      "\n",
      "initials(s)\n",
      "\n"
     ]
    }
   ],
   "source": [
    "help(texplo.initials)"
   ]
  },
  {
   "cell_type": "code",
   "execution_count": 34,
   "metadata": {},
   "outputs": [
    {
     "name": "stdout",
     "output_type": "stream",
     "text": [
      "Help on function finals in module text_exploration:\n",
      "\n",
      "finals(s)\n",
      "\n"
     ]
    }
   ],
   "source": [
    "help(texplo.finals)"
   ]
  },
  {
   "cell_type": "code",
   "execution_count": 33,
   "metadata": {},
   "outputs": [
    {
     "name": "stdout",
     "output_type": "stream",
     "text": [
      "          Column1 Column2    Column3\n",
      "0       ##apple##     A1     @hello@\n",
      "1        banana!!     B2   !!world!!\n",
      "2      %%cherry%%     C3     python \n",
      "3          date@@     D4     rocks@@\n",
      "4  @@elderberry@@     E5        None \n",
      "\n",
      "Column3\n",
      "@       2\n",
      "!       1\n",
      "        1\n",
      "None    1\n",
      "Name: count, dtype: int64\n"
     ]
    }
   ],
   "source": [
    "print(df_text, '\\n')\n",
    "\n",
    "print(texplo.finals(df_text.Column3))"
   ]
  }
 ],
 "metadata": {
  "kaggle": {
   "accelerator": "none",
   "dataSources": [],
   "dockerImageVersionId": 30664,
   "isGpuEnabled": false,
   "isInternetEnabled": true,
   "language": "python",
   "sourceType": "notebook"
  },
  "kernelspec": {
   "display_name": "Python 3",
   "language": "python",
   "name": "python3"
  },
  "language_info": {
   "codemirror_mode": {
    "name": "ipython",
    "version": 3
   },
   "file_extension": ".py",
   "mimetype": "text/x-python",
   "name": "python",
   "nbconvert_exporter": "python",
   "pygments_lexer": "ipython3",
   "version": "3.12.1"
  }
 },
 "nbformat": 4,
 "nbformat_minor": 4
}
