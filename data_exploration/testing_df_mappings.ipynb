{
 "cells": [
  {
   "cell_type": "code",
   "execution_count": null,
   "metadata": {
    "_cell_guid": "b1076dfc-b9ad-4769-8c92-a6c4dae69d19",
    "_uuid": "8f2839f25d086af736a60e9eeb907d3b93b6e0e5",
    "execution": {
     "iopub.execute_input": "2024-04-09T13:04:59.469090Z",
     "iopub.status.busy": "2024-04-09T13:04:59.468570Z",
     "iopub.status.idle": "2024-04-09T13:05:00.608630Z",
     "shell.execute_reply": "2024-04-09T13:05:00.607354Z",
     "shell.execute_reply.started": "2024-04-09T13:04:59.469048Z"
    },
    "trusted": true
   },
   "outputs": [],
   "source": [
    "import numpy as np\n",
    "import pandas as pd\n",
    "\n",
    "from testing_data import *\n",
    "import data_types as types\n",
    "import df_mappings as map\n",
    "import text_exploration as texplo"
   ]
  },
  {
   "cell_type": "markdown",
   "metadata": {},
   "source": [
    "# 2. Mappings"
   ]
  },
  {
   "cell_type": "code",
   "execution_count": null,
   "metadata": {
    "execution": {
     "iopub.execute_input": "2024-04-09T13:05:00.620617Z",
     "iopub.status.busy": "2024-04-09T13:05:00.620057Z",
     "iopub.status.idle": "2024-04-09T13:05:00.632785Z",
     "shell.execute_reply": "2024-04-09T13:05:00.631989Z",
     "shell.execute_reply.started": "2024-04-09T13:05:00.620589Z"
    },
    "trusted": true
   },
   "outputs": [
    {
     "name": "stdout",
     "output_type": "stream",
     "text": [
      "['foreign_k2k', 'map_col2col', 'occurrences', 'pd', 'xs2xs', 'xs2ys']\n"
     ]
    }
   ],
   "source": [
    "# Print out the names of all the functions in the df_mappings module\n",
    "print([item for item in dir(map) if not item.startswith('__')])"
   ]
  },
  {
   "cell_type": "markdown",
   "metadata": {},
   "source": [
    "### 2.1 Which values are in the same position?\n",
    "`maps.map_col2col`: given 2 columns in a data frame (or any two same length columns), one might be interested in how they map onto each other. Is it a 1 to 1 mapping? Does it define a function? And if so, is the function injective of surjective?\n",
    "\n",
    "The following function, given col_1 and col_2, returns, for each value in col_1, how many values it is associated to in col_2:"
   ]
  },
  {
   "cell_type": "code",
   "execution_count": null,
   "metadata": {},
   "outputs": [
    {
     "name": "stdout",
     "output_type": "stream",
     "text": [
      "Help on function map_col2col in module df_mappings:\n",
      "\n",
      "map_col2col(series_1, series_2)\n",
      "\n"
     ]
    }
   ],
   "source": [
    "# help(map.map_col2col)"
   ]
  },
  {
   "cell_type": "code",
   "execution_count": null,
   "metadata": {
    "execution": {
     "iopub.execute_input": "2024-04-09T13:05:00.658096Z",
     "iopub.status.busy": "2024-04-09T13:05:00.657182Z",
     "iopub.status.idle": "2024-04-09T13:05:00.669167Z",
     "shell.execute_reply": "2024-04-09T13:05:00.668314Z",
     "shell.execute_reply.started": "2024-04-09T13:05:00.658068Z"
    },
    "trusted": true
   },
   "outputs": [
    {
     "name": "stdout",
     "output_type": "stream",
     "text": [
      "   a  b      c\n",
      "0  1  1  lollo\n",
      "1  2  3  gigio\n",
      "2  3  1  lollo\n",
      "3  4  3  gigio\n",
      "4  3  1  lollo \n",
      "\n",
      "   gigio  lollo\n",
      "1  False   True\n",
      "3   True  False\n"
     ]
    }
   ],
   "source": [
    "# Try it out here:\n",
    "print(df_maps1, '\\n')\n",
    "print(map_col2col(df_maps1.b, df_maps1.c))"
   ]
  },
  {
   "cell_type": "markdown",
   "metadata": {},
   "source": [
    "By calling `map_count(col_1, col_2)` and then `map_count(col_2, col_1)`, one will be able to determine the relation between the two columns."
   ]
  },
  {
   "cell_type": "markdown",
   "metadata": {},
   "source": [
    "### 2.2 Can 2 same type series get a 1 to 1 mapping?\n",
    "`map.foreign_k2k`: are you wandering whether two columns from different tables have the same unique values?"
   ]
  },
  {
   "cell_type": "code",
   "execution_count": null,
   "metadata": {},
   "outputs": [
    {
     "name": "stdout",
     "output_type": "stream",
     "text": [
      "Help on function foreign_k2k in module df_mappings:\n",
      "\n",
      "foreign_k2k(series_1, series_2, df1_name='table1', df2_name='table2', n_matches=-1, mode='>')\n",
      "\n"
     ]
    }
   ],
   "source": [
    "# help(map.foreign_k2k)"
   ]
  },
  {
   "cell_type": "code",
   "execution_count": 9,
   "metadata": {
    "execution": {
     "iopub.execute_input": "2024-04-09T13:05:00.691962Z",
     "iopub.status.busy": "2024-04-09T13:05:00.691260Z",
     "iopub.status.idle": "2024-04-09T13:05:00.703870Z",
     "shell.execute_reply": "2024-04-09T13:05:00.703093Z",
     "shell.execute_reply.started": "2024-04-09T13:05:00.691936Z"
    },
    "trusted": true
   },
   "outputs": [
    {
     "data": {
      "text/html": [
       "<div>\n",
       "<style scoped>\n",
       "    .dataframe tbody tr th:only-of-type {\n",
       "        vertical-align: middle;\n",
       "    }\n",
       "\n",
       "    .dataframe tbody tr th {\n",
       "        vertical-align: top;\n",
       "    }\n",
       "\n",
       "    .dataframe thead th {\n",
       "        text-align: right;\n",
       "    }\n",
       "</style>\n",
       "<table border=\"1\" class=\"dataframe\">\n",
       "  <thead>\n",
       "    <tr style=\"text-align: right;\">\n",
       "      <th></th>\n",
       "      <th>table1.a_values</th>\n",
       "      <th>matches_in_table2.b &gt; -1</th>\n",
       "    </tr>\n",
       "  </thead>\n",
       "  <tbody>\n",
       "    <tr>\n",
       "      <th>0</th>\n",
       "      <td>1</td>\n",
       "      <td>2</td>\n",
       "    </tr>\n",
       "    <tr>\n",
       "      <th>1</th>\n",
       "      <td>2</td>\n",
       "      <td>0</td>\n",
       "    </tr>\n",
       "    <tr>\n",
       "      <th>2</th>\n",
       "      <td>3</td>\n",
       "      <td>1</td>\n",
       "    </tr>\n",
       "    <tr>\n",
       "      <th>3</th>\n",
       "      <td>4</td>\n",
       "      <td>0</td>\n",
       "    </tr>\n",
       "  </tbody>\n",
       "</table>\n",
       "</div>"
      ],
      "text/plain": [
       "   table1.a_values  matches_in_table2.b > -1\n",
       "0                1                         2\n",
       "1                2                         0\n",
       "2                3                         1\n",
       "3                4                         0"
      ]
     },
     "execution_count": 9,
     "metadata": {},
     "output_type": "execute_result"
    }
   ],
   "source": [
    "\n",
    "map.foreign_k2k(df_maps2.a, df_maps2.b)"
   ]
  },
  {
   "cell_type": "markdown",
   "metadata": {},
   "source": [
    "### 2.3 xs2xs"
   ]
  },
  {
   "cell_type": "code",
   "execution_count": 4,
   "metadata": {},
   "outputs": [
    {
     "name": "stdout",
     "output_type": "stream",
     "text": [
      "iter_1: #NaNs : 2 (20.00%) | #unmatched: 1 (12.50%) | 1 to 1 mappings: 87.50%\n",
      "iter_2: #NaNs : 1 (12.50%) | #unmatched: 2 (25.00%) | 1 to 1 mappings: 75.00%\n",
      "   selected_values  occurrences in iter_1  occurrences in iter_2\n",
      "0              8.0                      0                      1\n",
      "1              2.0                      1                      0\n",
      "2              6.0                      1                      0\n",
      "3              1.0                      1                      1\n",
      "4              4.0                      1                      1\n",
      "5              5.0                      1                      2\n",
      "6              NaN                      2                      1\n",
      "7              3.0                      3                      2\n"
     ]
    }
   ],
   "source": [
    "print(map.xs2xs(iter_1, iter_2))\n",
    "# print(map.xs2xs(iter_1, iter_2, name_1 = 'A', name_2 = 'B'))\n",
    "# print(map.xs2xs(iter_1, iter_2, name_1 = 'A', name_2 = 'B', values = iter_1))"
   ]
  }
 ],
 "metadata": {
  "kaggle": {
   "accelerator": "none",
   "dataSources": [],
   "dockerImageVersionId": 30664,
   "isGpuEnabled": false,
   "isInternetEnabled": true,
   "language": "python",
   "sourceType": "notebook"
  },
  "kernelspec": {
   "display_name": "Python 3",
   "language": "python",
   "name": "python3"
  },
  "language_info": {
   "codemirror_mode": {
    "name": "ipython",
    "version": 3
   },
   "file_extension": ".py",
   "mimetype": "text/x-python",
   "name": "python",
   "nbconvert_exporter": "python",
   "pygments_lexer": "ipython3",
   "version": "3.12.1"
  }
 },
 "nbformat": 4,
 "nbformat_minor": 4
}
